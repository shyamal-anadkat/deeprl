{
  "nbformat": 4,
  "nbformat_minor": 5,
  "metadata": {
    "kernelspec": {
      "display_name": "Python 3",
      "language": "python",
      "name": "python3"
    },
    "language_info": {
      "codemirror_mode": {
        "name": "ipython",
        "version": 3
      },
      "file_extension": ".py",
      "mimetype": "text/x-python",
      "name": "python",
      "nbconvert_exporter": "python",
      "pygments_lexer": "ipython3",
      "version": "3.8.8"
    },
    "colab": {
      "name": "1_cartpole_a2c.ipynb",
      "provenance": []
    }
  },
  "cells": [
    {
      "cell_type": "markdown",
      "metadata": {
        "id": "ZKp-dmHXgfmR"
      },
      "source": [
        "## AIPI 530 HW 1.2 (Shyamal H Anadkat) : Cartpole-v1 using A2C with N workers/1 worker"
      ],
      "id": "ZKp-dmHXgfmR"
    },
    {
      "cell_type": "markdown",
      "metadata": {
        "id": "r4OJXZKugqXu"
      },
      "source": [
        "## Install Dependencies and Stable Baselines3 Using Pip"
      ],
      "id": "r4OJXZKugqXu"
    },
    {
      "cell_type": "code",
      "metadata": {
        "id": "fb0155d6"
      },
      "source": [
        "!apt-get install ffmpeg freeglut3-dev xvfb  # For visualization\n",
        "!pip install stable-baselines3[extra]"
      ],
      "id": "fb0155d6",
      "execution_count": 1,
      "outputs": []
    },
    {
      "cell_type": "markdown",
      "metadata": {
        "id": "-HWOtudkgtT2"
      },
      "source": [
        "## Vectorized Environments and Imports"
      ],
      "id": "-HWOtudkgtT2"
    },
    {
      "cell_type": "code",
      "metadata": {
        "id": "phDiQLBcHUHA"
      },
      "source": [
        "import time\n",
        "import numpy as np\n",
        "import matplotlib.pyplot as plt\n",
        "%matplotlib inline\n",
        "\n",
        "import gym\n",
        "\n",
        "from stable_baselines3.common.vec_env import DummyVecEnv, SubprocVecEnv\n",
        "from stable_baselines3.common.utils import set_random_seed\n",
        "from stable_baselines3 import PPO, A2C\n",
        "from stable_baselines3.common.evaluation import evaluate_policy\n",
        "\n",
        "from stable_baselines3.common.env_util import make_vec_env"
      ],
      "id": "phDiQLBcHUHA",
      "execution_count": 2,
      "outputs": []
    },
    {
      "cell_type": "markdown",
      "metadata": {
        "id": "ocffU2ERhUzl"
      },
      "source": [
        "## Define few constants"
      ],
      "id": "ocffU2ERhUzl"
    },
    {
      "cell_type": "code",
      "metadata": {
        "id": "3dNwi8t1sgjG"
      },
      "source": [
        "env_id = 'CartPole-v1'\n",
        "# The different number of processes that will be used\n",
        "WORKERS_TO_TEST = [1, 2, 4, 8, 16] \n",
        "NUM_EXPERIMENTS = 3 # RL algorithms can often be unstable, so we run several experiments (see https://arxiv.org/abs/1709.06560)\n",
        "TRAIN_STEPS = 5000\n",
        "# Number of episodes for evaluation\n",
        "EVAL_EPS = 20\n",
        "ALGO = A2C\n",
        "\n",
        "# We will create one environment to evaluate the agent on\n",
        "eval_env = gym.make(env_id)"
      ],
      "id": "3dNwi8t1sgjG",
      "execution_count": 3,
      "outputs": []
    },
    {
      "cell_type": "markdown",
      "metadata": {
        "id": "Vup7v7_uhHAA"
      },
      "source": [
        "## Iterate through number of workers/processes"
      ],
      "id": "Vup7v7_uhHAA"
    },
    {
      "cell_type": "code",
      "metadata": {
        "id": "m103-RNDso4d",
        "colab": {
          "base_uri": "https://localhost:8080/"
        },
        "outputId": "6d23fbc0-20f8-4e1b-da60-86bb7f6e91d8"
      },
      "source": [
        "reward_averages = []\n",
        "reward_std = []\n",
        "training_times = []\n",
        "total_procs = 0\n",
        "for n_procs in WORKERS_TO_TEST:\n",
        "    total_procs += n_procs\n",
        "    print('Running for workers = {}'.format(n_procs))\n",
        "    if n_procs == 1:\n",
        "        # if there is only one process, there is no need to use multiprocessing\n",
        "        train_env = DummyVecEnv([lambda: gym.make(env_id)])\n",
        "    else:\n",
        "        # Here we use the \"fork\" method for launching the processes, more information is available in the doc\n",
        "        # This is equivalent to make_vec_env(env_id, n_envs=n_procs, vec_env_cls=SubprocVecEnv, vec_env_kwargs=dict(start_method='fork'))\n",
        "        train_env = make_vec_env(env_id, n_envs=n_procs, vec_env_cls=SubprocVecEnv, vec_env_kwargs=dict(start_method='fork'))\n",
        "\n",
        "    rewards = []\n",
        "    times = []\n",
        "\n",
        "    for experiment in range(NUM_EXPERIMENTS):\n",
        "        # it is recommended to run several experiments due to variability in results\n",
        "        train_env.reset()\n",
        "        model = ALGO('MlpPolicy', train_env, verbose=0)\n",
        "        start = time.time()\n",
        "        model.learn(total_timesteps=TRAIN_STEPS)\n",
        "        times.append(time.time() - start)\n",
        "        mean_reward, _  = evaluate_policy(model, eval_env, n_eval_episodes=EVAL_EPS)\n",
        "        rewards.append(mean_reward)\n",
        "    # Important: when using subprocess, don't forget to close them\n",
        "    # otherwise, you may have memory issues when running a lot of experiments\n",
        "    train_env.close()\n",
        "    reward_averages.append(np.mean(rewards))\n",
        "    reward_std.append(np.std(rewards))\n",
        "    training_times.append(np.mean(times))\n",
        "    print('=============================================')\n",
        "    print('avg rewards:', np.mean(rewards))\n",
        "    print('std rewards:', np.std(rewards))\n",
        "    print('mean training times:', np.mean(times))"
      ],
      "id": "m103-RNDso4d",
      "execution_count": 4,
      "outputs": [
        {
          "output_type": "stream",
          "name": "stdout",
          "text": [
            "Running for workers = 1\n"
          ]
        },
        {
          "output_type": "stream",
          "name": "stderr",
          "text": [
            "/usr/local/lib/python3.7/dist-packages/stable_baselines3/common/evaluation.py:69: UserWarning: Evaluation environment is not wrapped with a ``Monitor`` wrapper. This may result in reporting modified episode lengths and rewards, if other wrappers happen to modify these. Consider wrapping environment first with ``Monitor`` wrapper.\n",
            "  UserWarning,\n"
          ]
        },
        {
          "output_type": "stream",
          "name": "stdout",
          "text": [
            "=============================================\n",
            "avg rewards: 220.35000000000002\n",
            "std rewards: 195.78022116649066\n",
            "mean training times: 6.688695112864177\n",
            "Running for workers = 2\n",
            "=============================================\n",
            "avg rewards: 118.64999999999999\n",
            "std rewards: 49.65160286100204\n",
            "mean training times: 4.823199510574341\n",
            "Running for workers = 4\n",
            "=============================================\n",
            "avg rewards: 232.0\n",
            "std rewards: 151.39394527743394\n",
            "mean training times: 2.8107733726501465\n",
            "Running for workers = 8\n",
            "=============================================\n",
            "avg rewards: 279.1166666666667\n",
            "std rewards: 152.09449000173836\n",
            "mean training times: 1.7285890579223633\n",
            "Running for workers = 16\n",
            "=============================================\n",
            "avg rewards: 38.71666666666667\n",
            "std rewards: 12.26419812118002\n",
            "mean training times: 1.3380425771077473\n"
          ]
        }
      ]
    },
    {
      "cell_type": "markdown",
      "metadata": {
        "id": "Z3ZJwOxfhB-I"
      },
      "source": [
        "## Compare training steps/second & plot the results "
      ],
      "id": "Z3ZJwOxfhB-I"
    },
    {
      "cell_type": "code",
      "metadata": {
        "id": "WWaYk7SQuaXx",
        "colab": {
          "base_uri": "https://localhost:8080/",
          "height": 283
        },
        "outputId": "219464cc-b23d-4817-8e86-cdede94539b1"
      },
      "source": [
        "training_steps_per_second = [TRAIN_STEPS / t for t in training_times]\n",
        "\n",
        "plt.figure(figsize=(9, 4))\n",
        "plt.subplots_adjust(wspace=0.5)\n",
        "plt.subplot(1, 2, 1)\n",
        "plt.errorbar(WORKERS_TO_TEST, reward_averages, yerr=reward_std, capsize=2)\n",
        "plt.xlabel('Workers')\n",
        "plt.ylabel('Average return')\n",
        "plt.subplot(1, 2, 2)\n",
        "plt.bar(range(len(WORKERS_TO_TEST)), training_steps_per_second)\n",
        "plt.xticks(range(len(WORKERS_TO_TEST)), WORKERS_TO_TEST)\n",
        "plt.xlabel('Workers')\n",
        "_ = plt.ylabel('Training steps per second')"
      ],
      "id": "WWaYk7SQuaXx",
      "execution_count": 5,
      "outputs": [
        {
          "output_type": "display_data",
          "data": {
            "image/png": "[encoded data removed]",
            "text/plain": [
              "<Figure size 648x288 with 2 Axes>"
            ]
          },
          "metadata": {
            "needs_background": "light"
          }
        }
      ]
    }
  ]
}