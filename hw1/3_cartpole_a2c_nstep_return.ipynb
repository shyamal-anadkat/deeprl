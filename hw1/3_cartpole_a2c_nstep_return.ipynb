{
  "nbformat": 4,
  "nbformat_minor": 5,
  "metadata": {
    "kernelspec": {
      "display_name": "Python 3",
      "language": "python",
      "name": "python3"
    },
    "language_info": {
      "codemirror_mode": {
        "name": "ipython",
        "version": 3
      },
      "file_extension": ".py",
      "mimetype": "text/x-python",
      "name": "python",
      "nbconvert_exporter": "python",
      "pygments_lexer": "ipython3",
      "version": "3.8.8"
    },
    "colab": {
      "name": "1_cartpole_a2c.ipynb",
      "provenance": [],
      "include_colab_link": true
    }
  },
  "cells": [
    {
      "cell_type": "markdown",
      "metadata": {
        "id": "view-in-github",
        "colab_type": "text"
      },
      "source": [
        "<a href=\"https://colab.research.google.com/github/shyamal-anadkat/deeprl/blob/main/hw1/3_cartpole_a2c_nstep_return.ipynb\" target=\"_parent\"><img src=\"https://colab.research.google.com/assets/colab-badge.svg\" alt=\"Open In Colab\"/></a>"
      ]
    },
    {
      "cell_type": "code",
      "metadata": {
        "id": "SZJbepAOBBR4",
        "outputId": "9c7f5741-307e-420f-c63e-6b776c71b805",
        "colab": {
          "base_uri": "https://localhost:8080/"
        }
      },
      "source": [
        "pip install git+https://github.com/shyamal-anadkat/stable-baselines3"
      ],
      "id": "SZJbepAOBBR4",
      "execution_count": 1,
      "outputs": [
        {
          "output_type": "stream",
          "name": "stdout",
          "text": [
            "Installing collected packages: stable-baselines3\n",
            "Successfully installed stable-baselines3-1.3.1a0\n"
          ]
        }
      ]
    },
    {
      "cell_type": "markdown",
      "metadata": {
        "id": "TefpfXwWntzF"
      },
      "source": [
        "## Using n-step advantage"
      ],
      "id": "TefpfXwWntzF"
    },
    {
      "cell_type": "code",
      "metadata": {
        "id": "phDiQLBcHUHA"
      },
      "source": [
        "import gym\n",
        "import numpy as np\n",
        "import stable_baselines3 as stable_baselines3_shyamal"
      ],
      "id": "phDiQLBcHUHA",
      "execution_count": 4,
      "outputs": []
    },
    {
      "cell_type": "code",
      "metadata": {
        "colab": {
          "base_uri": "https://localhost:8080/"
        },
        "id": "RBrHdzFyHZ5y",
        "outputId": "4b9e34a0-bc68-48c8-e895-b4b3686c62f7"
      },
      "source": [
        "env = gym.make('CartPole-v1')\n",
        "\n",
        "model = stable_baselines3_shyamal.A2C('MlpPolicy', env, verbose=1, tensorboard_log=\"./a2c_cartpole_tensorboard/\")\n"
      ],
      "id": "RBrHdzFyHZ5y",
      "execution_count": 6,
      "outputs": [
        {
          "output_type": "stream",
          "name": "stdout",
          "text": [
            "Using cpu device\n",
            "Wrapping the env with a `Monitor` wrapper\n",
            "Wrapping the env in a DummyVecEnv.\n"
          ]
        }
      ]
    },
    {
      "cell_type": "code",
      "metadata": {
        "id": "OyBMq0yVFh79",
        "colab": {
          "base_uri": "https://localhost:8080/"
        },
        "outputId": "3f739b39-c803-4493-a5da-561132bbcdce"
      },
      "source": [
        "\n",
        "# Use a separate environement for evaluation\n",
        "eval_env = gym.make('CartPole-v1')\n",
        "\n",
        "# Random Agent, before training\n",
        "mean_reward, std_reward = stable_baselines3_shyamal.common.evaluation.evaluate_policy(model, eval_env, n_eval_episodes=100)\n",
        "\n",
        "print(f\"mean_reward:{mean_reward:.2f} +/- {std_reward:.2f}\")"
      ],
      "id": "OyBMq0yVFh79",
      "execution_count": 8,
      "outputs": [
        {
          "output_type": "stream",
          "name": "stderr",
          "text": [
            "/usr/local/lib/python3.7/dist-packages/stable_baselines3/common/evaluation.py:69: UserWarning: Evaluation environment is not wrapped with a ``Monitor`` wrapper. This may result in reporting modified episode lengths and rewards, if other wrappers happen to modify these. Consider wrapping environment first with ``Monitor`` wrapper.\n",
            "  UserWarning,\n"
          ]
        },
        {
          "output_type": "stream",
          "name": "stdout",
          "text": [
            "mean_reward:500.00 +/- 0.00\n"
          ]
        }
      ]
    },
    {
      "cell_type": "code",
      "metadata": {
        "id": "uZMXxE33Fidc"
      },
      "source": [
        "# Train the agent for 5000 steps\n",
        "model.learn(total_timesteps=5000)\n",
        "\n",
        "# Evaluate the trained agent\n",
        "mean_reward, std_reward = stable_baselines3_shyamal.common.evaluation.evaluate_policy(model, eval_env, n_eval_episodes=100)\n",
        "\n",
        "print(f\"mean_reward:{mean_reward:.2f} +/- {std_reward:.2f}\")"
      ],
      "id": "uZMXxE33Fidc",
      "execution_count": null,
      "outputs": []
    },
    {
      "cell_type": "markdown",
      "metadata": {
        "id": "4DUYmI6Kn4Rt"
      },
      "source": [
        "## Using vanilla advantage "
      ],
      "id": "4DUYmI6Kn4Rt"
    },
    {
      "cell_type": "code",
      "metadata": {
        "id": "7XIdm8v6Fq5C"
      },
      "source": [
        "!apt-get install ffmpeg freeglut3-dev xvfb  # For visualization\n",
        "!pip install stable-baselines3[extra]"
      ],
      "id": "7XIdm8v6Fq5C",
      "execution_count": 6,
      "outputs": []
    },
    {
      "cell_type": "code",
      "metadata": {
        "id": "SvtOZyrHoKa7"
      },
      "source": [
        "from stable_baselines3 import A2C\n",
        "from stable_baselines3.common.env_util import make_vec_env\n",
        "from stable_baselines3.common.evaluation import evaluate_policy"
      ],
      "id": "SvtOZyrHoKa7",
      "execution_count": 10,
      "outputs": []
    },
    {
      "cell_type": "code",
      "metadata": {
        "id": "YZZqI_fOoQWG",
        "outputId": "a0f2f62f-2639-4df2-fa09-68c29271e98f",
        "colab": {
          "base_uri": "https://localhost:8080/"
        }
      },
      "source": [
        "# Use a separate environement for evaluation\n",
        "eval_env = gym.make('CartPole-v1')\n",
        "\n",
        "# Random Agent, before training\n",
        "mean_reward, std_reward = evaluate_policy(model, eval_env, n_eval_episodes=100)\n",
        "\n",
        "print(f\"mean_reward:{mean_reward:.2f} +/- {std_reward:.2f}\")"
      ],
      "id": "YZZqI_fOoQWG",
      "execution_count": 8,
      "outputs": [
        {
          "output_type": "stream",
          "name": "stderr",
          "text": [
            "/usr/local/lib/python3.7/dist-packages/stable_baselines3/common/evaluation.py:69: UserWarning: Evaluation environment is not wrapped with a ``Monitor`` wrapper. This may result in reporting modified episode lengths and rewards, if other wrappers happen to modify these. Consider wrapping environment first with ``Monitor`` wrapper.\n",
            "  UserWarning,\n"
          ]
        },
        {
          "output_type": "stream",
          "name": "stdout",
          "text": [
            "mean_reward:20.74 +/- 2.30\n"
          ]
        }
      ]
    },
    {
      "cell_type": "code",
      "metadata": {
        "id": "epnRAPekoR7b",
        "outputId": "db6a4674-3605-4d8a-c01c-7a8a0e71dd61",
        "colab": {
          "base_uri": "https://localhost:8080/",
          "height": 1000
        }
      },
      "source": [
        "# Train the agent for 10000 steps\n",
        "model.learn(total_timesteps=10000)\n",
        "\n",
        "# Evaluate the trained agent\n",
        "mean_reward, std_reward = evaluate_policy(model, eval_env, n_eval_episodes=100)\n",
        "\n",
        "print(f\"mean_reward:{mean_reward:.2f} +/- {std_reward:.2f}\")"
      ],
      "id": "epnRAPekoR7b",
      "execution_count": 9,
      "outputs": [
        {
          "output_type": "stream",
          "name": "stdout",
          "text": [
            "Logging to ./a2c_cartpole_tensorboard/A2C_2\n",
            "shyamal hw 1.3 AIPI530 - computing nstep returns & advantage\n",
            "shyamal hw 1.3 AIPI530 - computing nstep returns & advantage\n",
            "shyamal hw 1.3 AIPI530 - computing nstep returns & advantage\n",
            "shyamal hw 1.3 AIPI530 - computing nstep returns & advantage\n",
            "shyamal hw 1.3 AIPI530 - computing nstep returns & advantage\n",
            "shyamal hw 1.3 AIPI530 - computing nstep returns & advantage\n",
            "shyamal hw 1.3 AIPI530 - computing nstep returns & advantage\n",
            "shyamal hw 1.3 AIPI530 - computing nstep returns & advantage\n",
            "shyamal hw 1.3 AIPI530 - computing nstep returns & advantage\n",
            "shyamal hw 1.3 AIPI530 - computing nstep returns & advantage\n",
            "shyamal hw 1.3 AIPI530 - computing nstep returns & advantage\n",
            "shyamal hw 1.3 AIPI530 - computing nstep returns & advantage\n",
            "shyamal hw 1.3 AIPI530 - computing nstep returns & advantage\n",
            "shyamal hw 1.3 AIPI530 - computing nstep returns & advantage\n",
            "shyamal hw 1.3 AIPI530 - computing nstep returns & advantage\n",
            "shyamal hw 1.3 AIPI530 - computing nstep returns & advantage\n",
            "shyamal hw 1.3 AIPI530 - computing nstep returns & advantage\n",
            "shyamal hw 1.3 AIPI530 - computing nstep returns & advantage\n",
            "shyamal hw 1.3 AIPI530 - computing nstep returns & advantage\n",
            "shyamal hw 1.3 AIPI530 - computing nstep returns & advantage\n",
            "shyamal hw 1.3 AIPI530 - computing nstep returns & advantage\n",
            "shyamal hw 1.3 AIPI530 - computing nstep returns & advantage\n",
            "shyamal hw 1.3 AIPI530 - computing nstep returns & advantage\n",
            "shyamal hw 1.3 AIPI530 - computing nstep returns & advantage\n",
            "shyamal hw 1.3 AIPI530 - computing nstep returns & advantage\n",
            "shyamal hw 1.3 AIPI530 - computing nstep returns & advantage\n",
            "shyamal hw 1.3 AIPI530 - computing nstep returns & advantage\n",
            "shyamal hw 1.3 AIPI530 - computing nstep returns & advantage\n",
            "shyamal hw 1.3 AIPI530 - computing nstep returns & advantage\n",
            "shyamal hw 1.3 AIPI530 - computing nstep returns & advantage\n",
            "shyamal hw 1.3 AIPI530 - computing nstep returns & advantage\n",
            "shyamal hw 1.3 AIPI530 - computing nstep returns & advantage\n",
            "shyamal hw 1.3 AIPI530 - computing nstep returns & advantage\n",
            "shyamal hw 1.3 AIPI530 - computing nstep returns & advantage\n",
            "shyamal hw 1.3 AIPI530 - computing nstep returns & advantage\n",
            "shyamal hw 1.3 AIPI530 - computing nstep returns & advantage\n",
            "shyamal hw 1.3 AIPI530 - computing nstep returns & advantage\n",
            "shyamal hw 1.3 AIPI530 - computing nstep returns & advantage\n",
            "shyamal hw 1.3 AIPI530 - computing nstep returns & advantage\n",
            "shyamal hw 1.3 AIPI530 - computing nstep returns & advantage\n",
            "shyamal hw 1.3 AIPI530 - computing nstep returns & advantage\n",
            "shyamal hw 1.3 AIPI530 - computing nstep returns & advantage\n",
            "shyamal hw 1.3 AIPI530 - computing nstep returns & advantage\n",
            "shyamal hw 1.3 AIPI530 - computing nstep returns & advantage\n",
            "shyamal hw 1.3 AIPI530 - computing nstep returns & advantage\n",
            "shyamal hw 1.3 AIPI530 - computing nstep returns & advantage\n",
            "shyamal hw 1.3 AIPI530 - computing nstep returns & advantage\n",
            "shyamal hw 1.3 AIPI530 - computing nstep returns & advantage\n",
            "shyamal hw 1.3 AIPI530 - computing nstep returns & advantage\n",
            "shyamal hw 1.3 AIPI530 - computing nstep returns & advantage\n",
            "shyamal hw 1.3 AIPI530 - computing nstep returns & advantage\n",
            "shyamal hw 1.3 AIPI530 - computing nstep returns & advantage\n",
            "shyamal hw 1.3 AIPI530 - computing nstep returns & advantage\n",
            "shyamal hw 1.3 AIPI530 - computing nstep returns & advantage\n",
            "shyamal hw 1.3 AIPI530 - computing nstep returns & advantage\n",
            "shyamal hw 1.3 AIPI530 - computing nstep returns & advantage\n",
            "shyamal hw 1.3 AIPI530 - computing nstep returns & advantage\n",
            "shyamal hw 1.3 AIPI530 - computing nstep returns & advantage\n",
            "shyamal hw 1.3 AIPI530 - computing nstep returns & advantage\n",
            "shyamal hw 1.3 AIPI530 - computing nstep returns & advantage\n",
            "shyamal hw 1.3 AIPI530 - computing nstep returns & advantage\n",
            "shyamal hw 1.3 AIPI530 - computing nstep returns & advantage\n",
            "shyamal hw 1.3 AIPI530 - computing nstep returns & advantage\n",
            "shyamal hw 1.3 AIPI530 - computing nstep returns & advantage\n",
            "shyamal hw 1.3 AIPI530 - computing nstep returns & advantage\n",
            "shyamal hw 1.3 AIPI530 - computing nstep returns & advantage\n",
            "shyamal hw 1.3 AIPI530 - computing nstep returns & advantage\n",
            "shyamal hw 1.3 AIPI530 - computing nstep returns & advantage\n",
            "shyamal hw 1.3 AIPI530 - computing nstep returns & advantage\n",
            "shyamal hw 1.3 AIPI530 - computing nstep returns & advantage\n",
            "shyamal hw 1.3 AIPI530 - computing nstep returns & advantage\n",
            "shyamal hw 1.3 AIPI530 - computing nstep returns & advantage\n",
            "shyamal hw 1.3 AIPI530 - computing nstep returns & advantage\n",
            "shyamal hw 1.3 AIPI530 - computing nstep returns & advantage\n",
            "shyamal hw 1.3 AIPI530 - computing nstep returns & advantage\n",
            "shyamal hw 1.3 AIPI530 - computing nstep returns & advantage\n",
            "shyamal hw 1.3 AIPI530 - computing nstep returns & advantage\n",
            "shyamal hw 1.3 AIPI530 - computing nstep returns & advantage\n",
            "shyamal hw 1.3 AIPI530 - computing nstep returns & advantage\n",
            "shyamal hw 1.3 AIPI530 - computing nstep returns & advantage\n",
            "shyamal hw 1.3 AIPI530 - computing nstep returns & advantage\n",
            "shyamal hw 1.3 AIPI530 - computing nstep returns & advantage\n",
            "shyamal hw 1.3 AIPI530 - computing nstep returns & advantage\n",
            "shyamal hw 1.3 AIPI530 - computing nstep returns & advantage\n",
            "shyamal hw 1.3 AIPI530 - computing nstep returns & advantage\n",
            "shyamal hw 1.3 AIPI530 - computing nstep returns & advantage\n",
            "shyamal hw 1.3 AIPI530 - computing nstep returns & advantage\n",
            "shyamal hw 1.3 AIPI530 - computing nstep returns & advantage\n",
            "shyamal hw 1.3 AIPI530 - computing nstep returns & advantage\n",
            "shyamal hw 1.3 AIPI530 - computing nstep returns & advantage\n",
            "shyamal hw 1.3 AIPI530 - computing nstep returns & advantage\n",
            "shyamal hw 1.3 AIPI530 - computing nstep returns & advantage\n",
            "shyamal hw 1.3 AIPI530 - computing nstep returns & advantage\n",
            "shyamal hw 1.3 AIPI530 - computing nstep returns & advantage\n",
            "shyamal hw 1.3 AIPI530 - computing nstep returns & advantage\n",
            "shyamal hw 1.3 AIPI530 - computing nstep returns & advantage\n",
            "shyamal hw 1.3 AIPI530 - computing nstep returns & advantage\n",
            "shyamal hw 1.3 AIPI530 - computing nstep returns & advantage\n",
            "shyamal hw 1.3 AIPI530 - computing nstep returns & advantage\n",
            "shyamal hw 1.3 AIPI530 - computing nstep returns & advantage\n",
            "------------------------------------\n",
            "| rollout/              |          |\n",
            "|    ep_len_mean        | 24.9     |\n",
            "|    ep_rew_mean        | 24.9     |\n",
            "| time/                 |          |\n",
            "|    fps                | 390      |\n",
            "|    iterations         | 100      |\n",
            "|    time_elapsed       | 1        |\n",
            "|    total_timesteps    | 500      |\n",
            "| train/                |          |\n",
            "|    entropy_loss       | -0.681   |\n",
            "|    explained_variance | -0.667   |\n",
            "|    learning_rate      | 0.0007   |\n",
            "|    n_updates          | 2099     |\n",
            "|    policy_loss        | 0.219    |\n",
            "|    value_loss         | 0.0918   |\n",
            "------------------------------------\n",
            "shyamal hw 1.3 AIPI530 - computing nstep returns & advantage\n",
            "shyamal hw 1.3 AIPI530 - computing nstep returns & advantage\n",
            "shyamal hw 1.3 AIPI530 - computing nstep returns & advantage\n",
            "shyamal hw 1.3 AIPI530 - computing nstep returns & advantage\n",
            "shyamal hw 1.3 AIPI530 - computing nstep returns & advantage\n",
            "shyamal hw 1.3 AIPI530 - computing nstep returns & advantage\n",
            "shyamal hw 1.3 AIPI530 - computing nstep returns & advantage\n",
            "shyamal hw 1.3 AIPI530 - computing nstep returns & advantage\n",
            "shyamal hw 1.3 AIPI530 - computing nstep returns & advantage\n",
            "shyamal hw 1.3 AIPI530 - computing nstep returns & advantage\n",
            "shyamal hw 1.3 AIPI530 - computing nstep returns & advantage\n",
            "shyamal hw 1.3 AIPI530 - computing nstep returns & advantage\n",
            "shyamal hw 1.3 AIPI530 - computing nstep returns & advantage\n",
            "shyamal hw 1.3 AIPI530 - computing nstep returns & advantage\n",
            "shyamal hw 1.3 AIPI530 - computing nstep returns & advantage\n",
            "shyamal hw 1.3 AIPI530 - computing nstep returns & advantage\n",
            "shyamal hw 1.3 AIPI530 - computing nstep returns & advantage\n",
            "shyamal hw 1.3 AIPI530 - computing nstep returns & advantage\n",
            "shyamal hw 1.3 AIPI530 - computing nstep returns & advantage\n",
            "shyamal hw 1.3 AIPI530 - computing nstep returns & advantage\n",
            "shyamal hw 1.3 AIPI530 - computing nstep returns & advantage\n",
            "shyamal hw 1.3 AIPI530 - computing nstep returns & advantage\n",
            "shyamal hw 1.3 AIPI530 - computing nstep returns & advantage\n",
            "shyamal hw 1.3 AIPI530 - computing nstep returns & advantage\n",
            "shyamal hw 1.3 AIPI530 - computing nstep returns & advantage\n",
            "shyamal hw 1.3 AIPI530 - computing nstep returns & advantage\n",
            "shyamal hw 1.3 AIPI530 - computing nstep returns & advantage\n",
            "shyamal hw 1.3 AIPI530 - computing nstep returns & advantage\n",
            "shyamal hw 1.3 AIPI530 - computing nstep returns & advantage\n",
            "shyamal hw 1.3 AIPI530 - computing nstep returns & advantage\n",
            "shyamal hw 1.3 AIPI530 - computing nstep returns & advantage\n",
            "shyamal hw 1.3 AIPI530 - computing nstep returns & advantage\n",
            "shyamal hw 1.3 AIPI530 - computing nstep returns & advantage\n",
            "shyamal hw 1.3 AIPI530 - computing nstep returns & advantage\n",
            "shyamal hw 1.3 AIPI530 - computing nstep returns & advantage\n",
            "shyamal hw 1.3 AIPI530 - computing nstep returns & advantage\n",
            "shyamal hw 1.3 AIPI530 - computing nstep returns & advantage\n",
            "shyamal hw 1.3 AIPI530 - computing nstep returns & advantage\n",
            "shyamal hw 1.3 AIPI530 - computing nstep returns & advantage\n",
            "shyamal hw 1.3 AIPI530 - computing nstep returns & advantage\n",
            "shyamal hw 1.3 AIPI530 - computing nstep returns & advantage\n",
            "shyamal hw 1.3 AIPI530 - computing nstep returns & advantage\n",
            "shyamal hw 1.3 AIPI530 - computing nstep returns & advantage\n",
            "shyamal hw 1.3 AIPI530 - computing nstep returns & advantage\n",
            "shyamal hw 1.3 AIPI530 - computing nstep returns & advantage\n",
            "shyamal hw 1.3 AIPI530 - computing nstep returns & advantage\n",
            "shyamal hw 1.3 AIPI530 - computing nstep returns & advantage\n",
            "shyamal hw 1.3 AIPI530 - computing nstep returns & advantage\n",
            "shyamal hw 1.3 AIPI530 - computing nstep returns & advantage\n",
            "shyamal hw 1.3 AIPI530 - computing nstep returns & advantage\n",
            "shyamal hw 1.3 AIPI530 - computing nstep returns & advantage\n",
            "shyamal hw 1.3 AIPI530 - computing nstep returns & advantage\n",
            "shyamal hw 1.3 AIPI530 - computing nstep returns & advantage\n",
            "shyamal hw 1.3 AIPI530 - computing nstep returns & advantage\n",
            "shyamal hw 1.3 AIPI530 - computing nstep returns & advantage\n",
            "shyamal hw 1.3 AIPI530 - computing nstep returns & advantage\n",
            "shyamal hw 1.3 AIPI530 - computing nstep returns & advantage\n",
            "shyamal hw 1.3 AIPI530 - computing nstep returns & advantage\n",
            "shyamal hw 1.3 AIPI530 - computing nstep returns & advantage\n",
            "shyamal hw 1.3 AIPI530 - computing nstep returns & advantage\n",
            "shyamal hw 1.3 AIPI530 - computing nstep returns & advantage\n",
            "shyamal hw 1.3 AIPI530 - computing nstep returns & advantage\n",
            "shyamal hw 1.3 AIPI530 - computing nstep returns & advantage\n",
            "shyamal hw 1.3 AIPI530 - computing nstep returns & advantage\n",
            "shyamal hw 1.3 AIPI530 - computing nstep returns & advantage\n",
            "shyamal hw 1.3 AIPI530 - computing nstep returns & advantage\n",
            "shyamal hw 1.3 AIPI530 - computing nstep returns & advantage\n",
            "shyamal hw 1.3 AIPI530 - computing nstep returns & advantage\n",
            "shyamal hw 1.3 AIPI530 - computing nstep returns & advantage\n",
            "shyamal hw 1.3 AIPI530 - computing nstep returns & advantage\n",
            "shyamal hw 1.3 AIPI530 - computing nstep returns & advantage\n",
            "shyamal hw 1.3 AIPI530 - computing nstep returns & advantage\n",
            "shyamal hw 1.3 AIPI530 - computing nstep returns & advantage\n",
            "shyamal hw 1.3 AIPI530 - computing nstep returns & advantage\n",
            "shyamal hw 1.3 AIPI530 - computing nstep returns & advantage\n",
            "shyamal hw 1.3 AIPI530 - computing nstep returns & advantage\n",
            "shyamal hw 1.3 AIPI530 - computing nstep returns & advantage\n",
            "shyamal hw 1.3 AIPI530 - computing nstep returns & advantage\n",
            "shyamal hw 1.3 AIPI530 - computing nstep returns & advantage\n",
            "shyamal hw 1.3 AIPI530 - computing nstep returns & advantage\n",
            "shyamal hw 1.3 AIPI530 - computing nstep returns & advantage\n",
            "shyamal hw 1.3 AIPI530 - computing nstep returns & advantage\n",
            "shyamal hw 1.3 AIPI530 - computing nstep returns & advantage\n",
            "shyamal hw 1.3 AIPI530 - computing nstep returns & advantage\n",
            "shyamal hw 1.3 AIPI530 - computing nstep returns & advantage\n",
            "shyamal hw 1.3 AIPI530 - computing nstep returns & advantage\n",
            "shyamal hw 1.3 AIPI530 - computing nstep returns & advantage\n",
            "shyamal hw 1.3 AIPI530 - computing nstep returns & advantage\n",
            "shyamal hw 1.3 AIPI530 - computing nstep returns & advantage\n",
            "shyamal hw 1.3 AIPI530 - computing nstep returns & advantage\n",
            "shyamal hw 1.3 AIPI530 - computing nstep returns & advantage\n",
            "shyamal hw 1.3 AIPI530 - computing nstep returns & advantage\n",
            "shyamal hw 1.3 AIPI530 - computing nstep returns & advantage\n",
            "shyamal hw 1.3 AIPI530 - computing nstep returns & advantage\n",
            "shyamal hw 1.3 AIPI530 - computing nstep returns & advantage\n",
            "shyamal hw 1.3 AIPI530 - computing nstep returns & advantage\n",
            "shyamal hw 1.3 AIPI530 - computing nstep returns & advantage\n",
            "shyamal hw 1.3 AIPI530 - computing nstep returns & advantage\n",
            "shyamal hw 1.3 AIPI530 - computing nstep returns & advantage\n",
            "shyamal hw 1.3 AIPI530 - computing nstep returns & advantage\n",
            "------------------------------------\n",
            "| rollout/              |          |\n",
            "|    ep_len_mean        | 23       |\n",
            "|    ep_rew_mean        | 23       |\n",
            "| time/                 |          |\n",
            "|    fps                | 386      |\n",
            "|    iterations         | 200      |\n",
            "|    time_elapsed       | 2        |\n",
            "|    total_timesteps    | 1000     |\n",
            "| train/                |          |\n",
            "|    entropy_loss       | -0.621   |\n",
            "|    explained_variance | -1.1     |\n",
            "|    learning_rate      | 0.0007   |\n",
            "|    n_updates          | 2199     |\n",
            "|    policy_loss        | 0.138    |\n",
            "|    value_loss         | 0.0778   |\n",
            "------------------------------------\n",
            "shyamal hw 1.3 AIPI530 - computing nstep returns & advantage\n",
            "shyamal hw 1.3 AIPI530 - computing nstep returns & advantage\n",
            "shyamal hw 1.3 AIPI530 - computing nstep returns & advantage\n",
            "shyamal hw 1.3 AIPI530 - computing nstep returns & advantage\n",
            "shyamal hw 1.3 AIPI530 - computing nstep returns & advantage\n",
            "shyamal hw 1.3 AIPI530 - computing nstep returns & advantage\n",
            "shyamal hw 1.3 AIPI530 - computing nstep returns & advantage\n",
            "shyamal hw 1.3 AIPI530 - computing nstep returns & advantage\n",
            "shyamal hw 1.3 AIPI530 - computing nstep returns & advantage\n",
            "shyamal hw 1.3 AIPI530 - computing nstep returns & advantage\n",
            "shyamal hw 1.3 AIPI530 - computing nstep returns & advantage\n",
            "shyamal hw 1.3 AIPI530 - computing nstep returns & advantage\n",
            "shyamal hw 1.3 AIPI530 - computing nstep returns & advantage\n",
            "shyamal hw 1.3 AIPI530 - computing nstep returns & advantage\n",
            "shyamal hw 1.3 AIPI530 - computing nstep returns & advantage\n",
            "shyamal hw 1.3 AIPI530 - computing nstep returns & advantage\n",
            "shyamal hw 1.3 AIPI530 - computing nstep returns & advantage\n",
            "shyamal hw 1.3 AIPI530 - computing nstep returns & advantage\n",
            "shyamal hw 1.3 AIPI530 - computing nstep returns & advantage\n",
            "shyamal hw 1.3 AIPI530 - computing nstep returns & advantage\n",
            "shyamal hw 1.3 AIPI530 - computing nstep returns & advantage\n",
            "shyamal hw 1.3 AIPI530 - computing nstep returns & advantage\n",
            "shyamal hw 1.3 AIPI530 - computing nstep returns & advantage\n",
            "shyamal hw 1.3 AIPI530 - computing nstep returns & advantage\n",
            "shyamal hw 1.3 AIPI530 - computing nstep returns & advantage\n",
            "shyamal hw 1.3 AIPI530 - computing nstep returns & advantage\n",
            "shyamal hw 1.3 AIPI530 - computing nstep returns & advantage\n",
            "shyamal hw 1.3 AIPI530 - computing nstep returns & advantage\n",
            "shyamal hw 1.3 AIPI530 - computing nstep returns & advantage\n",
            "shyamal hw 1.3 AIPI530 - computing nstep returns & advantage\n",
            "shyamal hw 1.3 AIPI530 - computing nstep returns & advantage\n",
            "shyamal hw 1.3 AIPI530 - computing nstep returns & advantage\n",
            "shyamal hw 1.3 AIPI530 - computing nstep returns & advantage\n",
            "shyamal hw 1.3 AIPI530 - computing nstep returns & advantage\n",
            "shyamal hw 1.3 AIPI530 - computing nstep returns & advantage\n",
            "shyamal hw 1.3 AIPI530 - computing nstep returns & advantage\n",
            "shyamal hw 1.3 AIPI530 - computing nstep returns & advantage\n",
            "shyamal hw 1.3 AIPI530 - computing nstep returns & advantage\n",
            "shyamal hw 1.3 AIPI530 - computing nstep returns & advantage\n",
            "shyamal hw 1.3 AIPI530 - computing nstep returns & advantage\n",
            "shyamal hw 1.3 AIPI530 - computing nstep returns & advantage\n",
            "shyamal hw 1.3 AIPI530 - computing nstep returns & advantage\n",
            "shyamal hw 1.3 AIPI530 - computing nstep returns & advantage\n",
            "shyamal hw 1.3 AIPI530 - computing nstep returns & advantage\n",
            "shyamal hw 1.3 AIPI530 - computing nstep returns & advantage\n",
            "shyamal hw 1.3 AIPI530 - computing nstep returns & advantage\n"
          ]
        },
        {
          "output_type": "error",
          "ename": "KeyboardInterrupt",
          "evalue": "ignored",
          "traceback": [
            "\u001b[0;31m---------------------------------------------------------------------------\u001b[0m",
            "\u001b[0;31mKeyboardInterrupt\u001b[0m                         Traceback (most recent call last)",
            "\u001b[0;32m<ipython-input-9-453a326270e4>\u001b[0m in \u001b[0;36m<module>\u001b[0;34m()\u001b[0m\n\u001b[1;32m      1\u001b[0m \u001b[0;31m# Train the agent for 10000 steps\u001b[0m\u001b[0;34m\u001b[0m\u001b[0;34m\u001b[0m\u001b[0;34m\u001b[0m\u001b[0m\n\u001b[0;32m----> 2\u001b[0;31m \u001b[0mmodel\u001b[0m\u001b[0;34m.\u001b[0m\u001b[0mlearn\u001b[0m\u001b[0;34m(\u001b[0m\u001b[0mtotal_timesteps\u001b[0m\u001b[0;34m=\u001b[0m\u001b[0;36m10000\u001b[0m\u001b[0;34m)\u001b[0m\u001b[0;34m\u001b[0m\u001b[0;34m\u001b[0m\u001b[0m\n\u001b[0m\u001b[1;32m      3\u001b[0m \u001b[0;34m\u001b[0m\u001b[0m\n\u001b[1;32m      4\u001b[0m \u001b[0;31m# Evaluate the trained agent\u001b[0m\u001b[0;34m\u001b[0m\u001b[0;34m\u001b[0m\u001b[0;34m\u001b[0m\u001b[0m\n\u001b[1;32m      5\u001b[0m \u001b[0mmean_reward\u001b[0m\u001b[0;34m,\u001b[0m \u001b[0mstd_reward\u001b[0m \u001b[0;34m=\u001b[0m \u001b[0mevaluate_policy\u001b[0m\u001b[0;34m(\u001b[0m\u001b[0mmodel\u001b[0m\u001b[0;34m,\u001b[0m \u001b[0meval_env\u001b[0m\u001b[0;34m,\u001b[0m \u001b[0mn_eval_episodes\u001b[0m\u001b[0;34m=\u001b[0m\u001b[0;36m100\u001b[0m\u001b[0;34m)\u001b[0m\u001b[0;34m\u001b[0m\u001b[0;34m\u001b[0m\u001b[0m\n",
            "\u001b[0;32m/usr/local/lib/python3.7/dist-packages/stable_baselines3/a2c/a2c.py\u001b[0m in \u001b[0;36mlearn\u001b[0;34m(self, total_timesteps, callback, log_interval, eval_env, eval_freq, n_eval_episodes, tb_log_name, eval_log_path, reset_num_timesteps)\u001b[0m\n\u001b[1;32m    199\u001b[0m             \u001b[0mtb_log_name\u001b[0m\u001b[0;34m=\u001b[0m\u001b[0mtb_log_name\u001b[0m\u001b[0;34m,\u001b[0m\u001b[0;34m\u001b[0m\u001b[0;34m\u001b[0m\u001b[0m\n\u001b[1;32m    200\u001b[0m             \u001b[0meval_log_path\u001b[0m\u001b[0;34m=\u001b[0m\u001b[0meval_log_path\u001b[0m\u001b[0;34m,\u001b[0m\u001b[0;34m\u001b[0m\u001b[0;34m\u001b[0m\u001b[0m\n\u001b[0;32m--> 201\u001b[0;31m             \u001b[0mreset_num_timesteps\u001b[0m\u001b[0;34m=\u001b[0m\u001b[0mreset_num_timesteps\u001b[0m\u001b[0;34m,\u001b[0m\u001b[0;34m\u001b[0m\u001b[0;34m\u001b[0m\u001b[0m\n\u001b[0m\u001b[1;32m    202\u001b[0m         )\n",
            "\u001b[0;32m/usr/local/lib/python3.7/dist-packages/stable_baselines3/common/on_policy_algorithm.py\u001b[0m in \u001b[0;36mlearn\u001b[0;34m(self, total_timesteps, callback, log_interval, eval_env, eval_freq, n_eval_episodes, tb_log_name, eval_log_path, reset_num_timesteps)\u001b[0m\n\u001b[1;32m    256\u001b[0m                 \u001b[0mself\u001b[0m\u001b[0;34m.\u001b[0m\u001b[0mlogger\u001b[0m\u001b[0;34m.\u001b[0m\u001b[0mdump\u001b[0m\u001b[0;34m(\u001b[0m\u001b[0mstep\u001b[0m\u001b[0;34m=\u001b[0m\u001b[0mself\u001b[0m\u001b[0;34m.\u001b[0m\u001b[0mnum_timesteps\u001b[0m\u001b[0;34m)\u001b[0m\u001b[0;34m\u001b[0m\u001b[0;34m\u001b[0m\u001b[0m\n\u001b[1;32m    257\u001b[0m \u001b[0;34m\u001b[0m\u001b[0m\n\u001b[0;32m--> 258\u001b[0;31m             \u001b[0mself\u001b[0m\u001b[0;34m.\u001b[0m\u001b[0mtrain\u001b[0m\u001b[0;34m(\u001b[0m\u001b[0;34m)\u001b[0m\u001b[0;34m\u001b[0m\u001b[0;34m\u001b[0m\u001b[0m\n\u001b[0m\u001b[1;32m    259\u001b[0m \u001b[0;34m\u001b[0m\u001b[0m\n\u001b[1;32m    260\u001b[0m         \u001b[0mcallback\u001b[0m\u001b[0;34m.\u001b[0m\u001b[0mon_training_end\u001b[0m\u001b[0;34m(\u001b[0m\u001b[0;34m)\u001b[0m\u001b[0;34m\u001b[0m\u001b[0;34m\u001b[0m\u001b[0m\n",
            "\u001b[0;32m/usr/local/lib/python3.7/dist-packages/stable_baselines3/a2c/a2c.py\u001b[0m in \u001b[0;36mtrain\u001b[0;34m(self)\u001b[0m\n\u001b[1;32m    135\u001b[0m \u001b[0;34m\u001b[0m\u001b[0m\n\u001b[1;32m    136\u001b[0m             \u001b[0;31m# TODO: avoid second computation of everything because of the gradient\u001b[0m\u001b[0;34m\u001b[0m\u001b[0;34m\u001b[0m\u001b[0;34m\u001b[0m\u001b[0m\n\u001b[0;32m--> 137\u001b[0;31m             \u001b[0mvalues\u001b[0m\u001b[0;34m,\u001b[0m \u001b[0mlog_prob\u001b[0m\u001b[0;34m,\u001b[0m \u001b[0mentropy\u001b[0m \u001b[0;34m=\u001b[0m \u001b[0mself\u001b[0m\u001b[0;34m.\u001b[0m\u001b[0mpolicy\u001b[0m\u001b[0;34m.\u001b[0m\u001b[0mevaluate_actions\u001b[0m\u001b[0;34m(\u001b[0m\u001b[0mrollout_data\u001b[0m\u001b[0;34m.\u001b[0m\u001b[0mobservations\u001b[0m\u001b[0;34m,\u001b[0m \u001b[0mactions\u001b[0m\u001b[0;34m)\u001b[0m\u001b[0;34m\u001b[0m\u001b[0;34m\u001b[0m\u001b[0m\n\u001b[0m\u001b[1;32m    138\u001b[0m             \u001b[0mvalues\u001b[0m \u001b[0;34m=\u001b[0m \u001b[0mvalues\u001b[0m\u001b[0;34m.\u001b[0m\u001b[0mflatten\u001b[0m\u001b[0;34m(\u001b[0m\u001b[0;34m)\u001b[0m\u001b[0;34m\u001b[0m\u001b[0;34m\u001b[0m\u001b[0m\n\u001b[1;32m    139\u001b[0m \u001b[0;34m\u001b[0m\u001b[0m\n",
            "\u001b[0;32m/usr/local/lib/python3.7/dist-packages/stable_baselines3/common/policies.py\u001b[0m in \u001b[0;36mevaluate_actions\u001b[0;34m(self, obs, actions)\u001b[0m\n\u001b[1;32m    641\u001b[0m         \u001b[0mfeatures\u001b[0m \u001b[0;34m=\u001b[0m \u001b[0mself\u001b[0m\u001b[0;34m.\u001b[0m\u001b[0mextract_features\u001b[0m\u001b[0;34m(\u001b[0m\u001b[0mobs\u001b[0m\u001b[0;34m)\u001b[0m\u001b[0;34m\u001b[0m\u001b[0;34m\u001b[0m\u001b[0m\n\u001b[1;32m    642\u001b[0m         \u001b[0mlatent_pi\u001b[0m\u001b[0;34m,\u001b[0m \u001b[0mlatent_vf\u001b[0m \u001b[0;34m=\u001b[0m \u001b[0mself\u001b[0m\u001b[0;34m.\u001b[0m\u001b[0mmlp_extractor\u001b[0m\u001b[0;34m(\u001b[0m\u001b[0mfeatures\u001b[0m\u001b[0;34m)\u001b[0m\u001b[0;34m\u001b[0m\u001b[0;34m\u001b[0m\u001b[0m\n\u001b[0;32m--> 643\u001b[0;31m         \u001b[0mdistribution\u001b[0m \u001b[0;34m=\u001b[0m \u001b[0mself\u001b[0m\u001b[0;34m.\u001b[0m\u001b[0m_get_action_dist_from_latent\u001b[0m\u001b[0;34m(\u001b[0m\u001b[0mlatent_pi\u001b[0m\u001b[0;34m)\u001b[0m\u001b[0;34m\u001b[0m\u001b[0;34m\u001b[0m\u001b[0m\n\u001b[0m\u001b[1;32m    644\u001b[0m         \u001b[0mlog_prob\u001b[0m \u001b[0;34m=\u001b[0m \u001b[0mdistribution\u001b[0m\u001b[0;34m.\u001b[0m\u001b[0mlog_prob\u001b[0m\u001b[0;34m(\u001b[0m\u001b[0mactions\u001b[0m\u001b[0;34m)\u001b[0m\u001b[0;34m\u001b[0m\u001b[0;34m\u001b[0m\u001b[0m\n\u001b[1;32m    645\u001b[0m         \u001b[0mvalues\u001b[0m \u001b[0;34m=\u001b[0m \u001b[0mself\u001b[0m\u001b[0;34m.\u001b[0m\u001b[0mvalue_net\u001b[0m\u001b[0;34m(\u001b[0m\u001b[0mlatent_vf\u001b[0m\u001b[0;34m)\u001b[0m\u001b[0;34m\u001b[0m\u001b[0;34m\u001b[0m\u001b[0m\n",
            "\u001b[0;32m/usr/local/lib/python3.7/dist-packages/stable_baselines3/common/policies.py\u001b[0m in \u001b[0;36m_get_action_dist_from_latent\u001b[0;34m(self, latent_pi)\u001b[0m\n\u001b[1;32m    606\u001b[0m         \u001b[0;32melif\u001b[0m \u001b[0misinstance\u001b[0m\u001b[0;34m(\u001b[0m\u001b[0mself\u001b[0m\u001b[0;34m.\u001b[0m\u001b[0maction_dist\u001b[0m\u001b[0;34m,\u001b[0m \u001b[0mCategoricalDistribution\u001b[0m\u001b[0;34m)\u001b[0m\u001b[0;34m:\u001b[0m\u001b[0;34m\u001b[0m\u001b[0;34m\u001b[0m\u001b[0m\n\u001b[1;32m    607\u001b[0m             \u001b[0;31m# Here mean_actions are the logits before the softmax\u001b[0m\u001b[0;34m\u001b[0m\u001b[0;34m\u001b[0m\u001b[0;34m\u001b[0m\u001b[0m\n\u001b[0;32m--> 608\u001b[0;31m             \u001b[0;32mreturn\u001b[0m \u001b[0mself\u001b[0m\u001b[0;34m.\u001b[0m\u001b[0maction_dist\u001b[0m\u001b[0;34m.\u001b[0m\u001b[0mproba_distribution\u001b[0m\u001b[0;34m(\u001b[0m\u001b[0maction_logits\u001b[0m\u001b[0;34m=\u001b[0m\u001b[0mmean_actions\u001b[0m\u001b[0;34m)\u001b[0m\u001b[0;34m\u001b[0m\u001b[0;34m\u001b[0m\u001b[0m\n\u001b[0m\u001b[1;32m    609\u001b[0m         \u001b[0;32melif\u001b[0m \u001b[0misinstance\u001b[0m\u001b[0;34m(\u001b[0m\u001b[0mself\u001b[0m\u001b[0;34m.\u001b[0m\u001b[0maction_dist\u001b[0m\u001b[0;34m,\u001b[0m \u001b[0mMultiCategoricalDistribution\u001b[0m\u001b[0;34m)\u001b[0m\u001b[0;34m:\u001b[0m\u001b[0;34m\u001b[0m\u001b[0;34m\u001b[0m\u001b[0m\n\u001b[1;32m    610\u001b[0m             \u001b[0;31m# Here mean_actions are the flattened logits\u001b[0m\u001b[0;34m\u001b[0m\u001b[0;34m\u001b[0m\u001b[0;34m\u001b[0m\u001b[0m\n",
            "\u001b[0;32m/usr/local/lib/python3.7/dist-packages/stable_baselines3/common/distributions.py\u001b[0m in \u001b[0;36mproba_distribution\u001b[0;34m(self, action_logits)\u001b[0m\n\u001b[1;32m    272\u001b[0m \u001b[0;34m\u001b[0m\u001b[0m\n\u001b[1;32m    273\u001b[0m     \u001b[0;32mdef\u001b[0m \u001b[0mproba_distribution\u001b[0m\u001b[0;34m(\u001b[0m\u001b[0mself\u001b[0m\u001b[0;34m,\u001b[0m \u001b[0maction_logits\u001b[0m\u001b[0;34m:\u001b[0m \u001b[0mth\u001b[0m\u001b[0;34m.\u001b[0m\u001b[0mTensor\u001b[0m\u001b[0;34m)\u001b[0m \u001b[0;34m->\u001b[0m \u001b[0;34m\"CategoricalDistribution\"\u001b[0m\u001b[0;34m:\u001b[0m\u001b[0;34m\u001b[0m\u001b[0;34m\u001b[0m\u001b[0m\n\u001b[0;32m--> 274\u001b[0;31m         \u001b[0mself\u001b[0m\u001b[0;34m.\u001b[0m\u001b[0mdistribution\u001b[0m \u001b[0;34m=\u001b[0m \u001b[0mCategorical\u001b[0m\u001b[0;34m(\u001b[0m\u001b[0mlogits\u001b[0m\u001b[0;34m=\u001b[0m\u001b[0maction_logits\u001b[0m\u001b[0;34m)\u001b[0m\u001b[0;34m\u001b[0m\u001b[0;34m\u001b[0m\u001b[0m\n\u001b[0m\u001b[1;32m    275\u001b[0m         \u001b[0;32mreturn\u001b[0m \u001b[0mself\u001b[0m\u001b[0;34m\u001b[0m\u001b[0;34m\u001b[0m\u001b[0m\n\u001b[1;32m    276\u001b[0m \u001b[0;34m\u001b[0m\u001b[0m\n",
            "\u001b[0;32m/usr/local/lib/python3.7/dist-packages/torch/distributions/categorical.py\u001b[0m in \u001b[0;36m__init__\u001b[0;34m(self, probs, logits, validate_args)\u001b[0m\n\u001b[1;32m     58\u001b[0m                 \u001b[0;32mraise\u001b[0m \u001b[0mValueError\u001b[0m\u001b[0;34m(\u001b[0m\u001b[0;34m\"`logits` parameter must be at least one-dimensional.\"\u001b[0m\u001b[0;34m)\u001b[0m\u001b[0;34m\u001b[0m\u001b[0;34m\u001b[0m\u001b[0m\n\u001b[1;32m     59\u001b[0m             \u001b[0;31m# Normalize\u001b[0m\u001b[0;34m\u001b[0m\u001b[0;34m\u001b[0m\u001b[0;34m\u001b[0m\u001b[0m\n\u001b[0;32m---> 60\u001b[0;31m             \u001b[0mself\u001b[0m\u001b[0;34m.\u001b[0m\u001b[0mlogits\u001b[0m \u001b[0;34m=\u001b[0m \u001b[0mlogits\u001b[0m \u001b[0;34m-\u001b[0m \u001b[0mlogits\u001b[0m\u001b[0;34m.\u001b[0m\u001b[0mlogsumexp\u001b[0m\u001b[0;34m(\u001b[0m\u001b[0mdim\u001b[0m\u001b[0;34m=\u001b[0m\u001b[0;34m-\u001b[0m\u001b[0;36m1\u001b[0m\u001b[0;34m,\u001b[0m \u001b[0mkeepdim\u001b[0m\u001b[0;34m=\u001b[0m\u001b[0;32mTrue\u001b[0m\u001b[0;34m)\u001b[0m\u001b[0;34m\u001b[0m\u001b[0;34m\u001b[0m\u001b[0m\n\u001b[0m\u001b[1;32m     61\u001b[0m         \u001b[0mself\u001b[0m\u001b[0;34m.\u001b[0m\u001b[0m_param\u001b[0m \u001b[0;34m=\u001b[0m \u001b[0mself\u001b[0m\u001b[0;34m.\u001b[0m\u001b[0mprobs\u001b[0m \u001b[0;32mif\u001b[0m \u001b[0mprobs\u001b[0m \u001b[0;32mis\u001b[0m \u001b[0;32mnot\u001b[0m \u001b[0;32mNone\u001b[0m \u001b[0;32melse\u001b[0m \u001b[0mself\u001b[0m\u001b[0;34m.\u001b[0m\u001b[0mlogits\u001b[0m\u001b[0;34m\u001b[0m\u001b[0;34m\u001b[0m\u001b[0m\n\u001b[1;32m     62\u001b[0m         \u001b[0mself\u001b[0m\u001b[0;34m.\u001b[0m\u001b[0m_num_events\u001b[0m \u001b[0;34m=\u001b[0m \u001b[0mself\u001b[0m\u001b[0;34m.\u001b[0m\u001b[0m_param\u001b[0m\u001b[0;34m.\u001b[0m\u001b[0msize\u001b[0m\u001b[0;34m(\u001b[0m\u001b[0;34m)\u001b[0m\u001b[0;34m[\u001b[0m\u001b[0;34m-\u001b[0m\u001b[0;36m1\u001b[0m\u001b[0;34m]\u001b[0m\u001b[0;34m\u001b[0m\u001b[0;34m\u001b[0m\u001b[0m\n",
            "\u001b[0;31mKeyboardInterrupt\u001b[0m: "
          ]
        }
      ]
    }
  ]
}