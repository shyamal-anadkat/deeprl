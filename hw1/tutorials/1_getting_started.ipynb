{
  "nbformat": 4,
  "nbformat_minor": 0,
  "metadata": {
    "colab": {
      "name": "1_getting_started.ipynb",
      "provenance": [],
      "collapsed_sections": [],
      "include_colab_link": true
    },
    "kernelspec": {
      "name": "python3",
      "display_name": "Python 3"
    },
    "accelerator": "GPU"
  },
  "cells": [
    {
      "cell_type": "markdown",
      "metadata": {
        "id": "view-in-github",
        "colab_type": "text"
      },
      "source": [
        "<a href=\"https://colab.research.google.com/github/shyamal-anadkat/deeprl/blob/main/hw1/tutorials/1_getting_started.ipynb\" target=\"_parent\"><img src=\"https://colab.research.google.com/assets/colab-badge.svg\" alt=\"Open In Colab\"/></a>"
      ]
    },
    {
      "cell_type": "markdown",
      "metadata": {
        "id": "hyyN-2qyK_T2"
      },
      "source": [
        "# Stable Baselines3 Tutorial - Getting Started\n",
        "\n",
        "Github repo: https://github.com/araffin/rl-tutorial-jnrr19/tree/sb3/\n",
        "\n",
        "Stable-Baselines3: https://github.com/DLR-RM/stable-baselines3\n",
        "\n",
        "Documentation: https://stable-baselines3.readthedocs.io/en/master/\n",
        "\n",
        "RL Baselines3 zoo: https://github.com/DLR-RM/rl-baselines3-zoo\n",
        "\n",
        "[RL Baselines3 Zoo](https://github.com/DLR-RM/rl-baselines3-zoo) is a collection of pre-trained Reinforcement Learning agents using Stable-Baselines3.\n",
        "\n",
        "It also provides basic scripts for training, evaluating agents, tuning hyperparameters and recording videos.\n",
        "\n",
        "\n",
        "## Introduction\n",
        "\n",
        "In this notebook, you will learn the basics for using stable baselines library: how to create a RL model, train it and evaluate it. Because all algorithms share the same interface, we will see how simple it is to switch from one algorithm to another.\n",
        "\n",
        "\n",
        "## Install Dependencies and Stable Baselines3 Using Pip\n",
        "\n",
        "List of full dependencies can be found in the [README](https://github.com/DLR-RM/stable-baselines3).\n",
        "\n",
        "\n",
        "```\n",
        "pip install stable-baselines3[extra]\n",
        "```"
      ]
    },
    {
      "cell_type": "code",
      "metadata": {
        "id": "gWskDE2c9WoN"
      },
      "source": [
        "!apt-get install ffmpeg freeglut3-dev xvfb  # For visualization\n",
        "!pip install stable-baselines3[extra]"
      ],
      "execution_count": null,
      "outputs": []
    },
    {
      "cell_type": "markdown",
      "metadata": {
        "id": "FtY8FhliLsGm"
      },
      "source": [
        "## Imports"
      ]
    },
    {
      "cell_type": "markdown",
      "metadata": {
        "id": "gcX8hEcaUpR0"
      },
      "source": [
        "Stable-Baselines3 works on environments that follow the [gym interface](https://stable-baselines3.readthedocs.io/en/master/guide/custom_env.html).\n",
        "You can find a list of available environment [here](https://gym.openai.com/envs/#classic_control).\n",
        "\n",
        "It is also recommended to check the [source code](https://github.com/openai/gym) to learn more about the observation and action space of each env, as gym does not have a proper documentation.\n",
        "Not all algorithms can work with all action spaces, you can find more in this [recap table](https://stable-baselines3.readthedocs.io/en/master/guide/algos.html)"
      ]
    },
    {
      "cell_type": "code",
      "metadata": {
        "id": "BIedd7Pz9sOs"
      },
      "source": [
        "import gym\n",
        "import numpy as np"
      ],
      "execution_count": 2,
      "outputs": []
    },
    {
      "cell_type": "markdown",
      "metadata": {
        "id": "Ae32CtgzTG3R"
      },
      "source": [
        "The first thing you need to import is the RL model, check the documentation to know what you can use on which problem"
      ]
    },
    {
      "cell_type": "code",
      "metadata": {
        "id": "R7tKaBFrTR0a"
      },
      "source": [
        "from stable_baselines3 import PPO"
      ],
      "execution_count": 3,
      "outputs": []
    },
    {
      "cell_type": "markdown",
      "metadata": {
        "id": "-0_8OQbOTTNT"
      },
      "source": [
        "The next thing you need to import is the policy class that will be used to create the networks (for the policy/value functions).\n",
        "This step is optional as you can directly use strings in the constructor: \n",
        "\n",
        "```PPO('MlpPolicy', env)``` instead of ```PPO(MlpPolicy, env)```\n",
        "\n",
        "Note that some algorithms like `SAC` have their own `MlpPolicy`, that's why using string for the policy is the recommened option."
      ]
    },
    {
      "cell_type": "code",
      "metadata": {
        "id": "ROUJr675TT01"
      },
      "source": [
        "from stable_baselines3.ppo.policies import MlpPolicy"
      ],
      "execution_count": 4,
      "outputs": []
    },
    {
      "cell_type": "markdown",
      "metadata": {
        "id": "RapkYvTXL7Cd"
      },
      "source": [
        "## Create the Gym env and instantiate the agent\n",
        "\n",
        "For this example, we will use CartPole environment, a classic control problem.\n",
        "\n",
        "\"A pole is attached by an un-actuated joint to a cart, which moves along a frictionless track. The system is controlled by applying a force of +1 or -1 to the cart. The pendulum starts upright, and the goal is to prevent it from falling over. A reward of +1 is provided for every timestep that the pole remains upright. \"\n",
        "\n",
        "Cartpole environment: [https://gym.openai.com/envs/CartPole-v1/](https://gym.openai.com/envs/CartPole-v1/)\n",
        "\n",
        "![Cartpole](https://cdn-images-1.medium.com/max/1143/1*h4WTQNVIsvMXJTCpXm_TAw.gif)\n",
        "\n",
        "\n",
        "We chose the MlpPolicy because the observation of the CartPole task is a feature vector, not images.\n",
        "\n",
        "The type of action to use (discrete/continuous) will be automatically deduced from the environment action space\n",
        "\n",
        "Here we are using the [Proximal Policy Optimization](https://stable-baselines3.readthedocs.io/en/master/modules/ppo2.html) algorithm, which is an Actor-Critic method: it uses a value function to improve the policy gradient descent (by reducing the variance).\n",
        "\n",
        "It combines ideas from [A2C](https://stable-baselines3.readthedocs.io/en/master/modules/a2c.html) (having multiple workers and using an entropy bonus for exploration) and [TRPO](https://stable-baselines.readthedocs.io/en/master/modules/trpo.html) (it uses a trust region to improve stability and avoid catastrophic drops in performance).\n",
        "\n",
        "PPO is an on-policy algorithm, which means that the trajectories used to update the networks must be collected using the latest policy.\n",
        "It is usually less sample efficient than off-policy alorithms like [DQN](https://stable-baselines.readthedocs.io/en/master/modules/dqn.html), [SAC](https://stable-baselines3.readthedocs.io/en/master/modules/sac.html) or [TD3](https://stable-baselines3.readthedocs.io/en/master/modules/td3.html), but is much faster regarding wall-clock time.\n"
      ]
    },
    {
      "cell_type": "code",
      "metadata": {
        "id": "pUWGZp3i9wyf"
      },
      "source": [
        "env = gym.make('CartPole-v1')\n",
        "\n",
        "model = PPO(MlpPolicy, env, verbose=0)"
      ],
      "execution_count": 5,
      "outputs": []
    },
    {
      "cell_type": "markdown",
      "metadata": {
        "id": "4efFdrQ7MBvl"
      },
      "source": [
        "We create a helper function to evaluate the agent:"
      ]
    },
    {
      "cell_type": "code",
      "metadata": {
        "id": "63M8mSKR-6Zt"
      },
      "source": [
        "def evaluate(model, num_episodes=100):\n",
        "    \"\"\"\n",
        "    Evaluate a RL agent\n",
        "    :param model: (BaseRLModel object) the RL Agent\n",
        "    :param num_episodes: (int) number of episodes to evaluate it\n",
        "    :return: (float) Mean reward for the last num_episodes\n",
        "    \"\"\"\n",
        "    # This function will only work for a single Environment\n",
        "    env = model.get_env()\n",
        "    all_episode_rewards = []\n",
        "    for i in range(num_episodes):\n",
        "        episode_rewards = []\n",
        "        done = False\n",
        "        obs = env.reset()\n",
        "        while not done:\n",
        "            # _states are only useful when using LSTM policies\n",
        "            action, _states = model.predict(obs)\n",
        "            # here, action, rewards and dones are arrays\n",
        "            # because we are using vectorized env\n",
        "            obs, reward, done, info = env.step(action)\n",
        "            episode_rewards.append(reward)\n",
        "\n",
        "        all_episode_rewards.append(sum(episode_rewards))\n",
        "\n",
        "    mean_episode_reward = np.mean(all_episode_rewards)\n",
        "    print(\"Mean reward:\", mean_episode_reward, \"Num episodes:\", num_episodes)\n",
        "\n",
        "    return mean_episode_reward"
      ],
      "execution_count": 6,
      "outputs": []
    },
    {
      "cell_type": "markdown",
      "metadata": {
        "id": "zjEVOIY8NVeK"
      },
      "source": [
        "Let's evaluate the un-trained agent, this should be a random agent."
      ]
    },
    {
      "cell_type": "code",
      "metadata": {
        "id": "xDHLMA6NFk95",
        "colab": {
          "base_uri": "https://localhost:8080/"
        },
        "outputId": "98810a5d-e0d0-49b9-d32e-844aaba8ef18"
      },
      "source": [
        "# Random Agent, before training\n",
        "mean_reward_before_train = evaluate(model, num_episodes=100)"
      ],
      "execution_count": 7,
      "outputs": [
        {
          "output_type": "stream",
          "name": "stdout",
          "text": [
            "Mean reward: 22.4 Num episodes: 100\n"
          ]
        }
      ]
    },
    {
      "cell_type": "markdown",
      "metadata": {
        "id": "QjjPxrwkYJ2i"
      },
      "source": [
        "Stable-Baselines already provides you with that helper:"
      ]
    },
    {
      "cell_type": "code",
      "metadata": {
        "id": "8z6K9YImYJEx"
      },
      "source": [
        "from stable_baselines3.common.evaluation import evaluate_policy"
      ],
      "execution_count": 8,
      "outputs": []
    },
    {
      "cell_type": "code",
      "metadata": {
        "id": "4oPTHjxyZSOL",
        "colab": {
          "base_uri": "https://localhost:8080/"
        },
        "outputId": "1941c48e-133a-4898-fa3a-10d49cbca314"
      },
      "source": [
        "mean_reward, std_reward = evaluate_policy(model, env, n_eval_episodes=100)\n",
        "\n",
        "print(f\"mean_reward:{mean_reward:.2f} +/- {std_reward:.2f}\")"
      ],
      "execution_count": 9,
      "outputs": [
        {
          "output_type": "stream",
          "name": "stderr",
          "text": [
            "/usr/local/lib/python3.7/dist-packages/stable_baselines3/common/evaluation.py:69: UserWarning: Evaluation environment is not wrapped with a ``Monitor`` wrapper. This may result in reporting modified episode lengths and rewards, if other wrappers happen to modify these. Consider wrapping environment first with ``Monitor`` wrapper.\n",
            "  UserWarning,\n"
          ]
        },
        {
          "output_type": "stream",
          "name": "stdout",
          "text": [
            "mean_reward:9.00 +/- 0.65\n"
          ]
        }
      ]
    },
    {
      "cell_type": "markdown",
      "metadata": {
        "id": "r5UoXTZPNdFE"
      },
      "source": [
        "## Train the agent and evaluate it"
      ]
    },
    {
      "cell_type": "code",
      "metadata": {
        "id": "e4cfSXIB-pTF",
        "colab": {
          "base_uri": "https://localhost:8080/"
        },
        "outputId": "16927a1a-ac83-431a-e683-a356065fc5e7"
      },
      "source": [
        "# Train the agent for 10000 steps\n",
        "model.learn(total_timesteps=10000)"
      ],
      "execution_count": 10,
      "outputs": [
        {
          "output_type": "execute_result",
          "data": {
            "text/plain": [
              "<stable_baselines3.ppo.ppo.PPO at 0x7ff3953d7110>"
            ]
          },
          "metadata": {},
          "execution_count": 10
        }
      ]
    },
    {
      "cell_type": "code",
      "metadata": {
        "id": "ygl_gVmV_QP7",
        "colab": {
          "base_uri": "https://localhost:8080/"
        },
        "outputId": "50e171f1-da74-4d77-df2d-0546974e5ac3"
      },
      "source": [
        "# Evaluate the trained agent\n",
        "mean_reward, std_reward = evaluate_policy(model, env, n_eval_episodes=100)\n",
        "\n",
        "print(f\"mean_reward:{mean_reward:.2f} +/- {std_reward:.2f}\")"
      ],
      "execution_count": 11,
      "outputs": [
        {
          "output_type": "stream",
          "name": "stderr",
          "text": [
            "/usr/local/lib/python3.7/dist-packages/stable_baselines3/common/evaluation.py:69: UserWarning: Evaluation environment is not wrapped with a ``Monitor`` wrapper. This may result in reporting modified episode lengths and rewards, if other wrappers happen to modify these. Consider wrapping environment first with ``Monitor`` wrapper.\n",
            "  UserWarning,\n"
          ]
        },
        {
          "output_type": "stream",
          "name": "stdout",
          "text": [
            "mean_reward:407.88 +/- 110.54\n"
          ]
        }
      ]
    },
    {
      "cell_type": "markdown",
      "metadata": {
        "id": "A00W6yY3NkHG"
      },
      "source": [
        "Apparently the training went well, the mean reward increased a lot ! "
      ]
    },
    {
      "cell_type": "markdown",
      "metadata": {
        "id": "xVm9QPNVwKXN"
      },
      "source": [
        "### Prepare video recording"
      ]
    },
    {
      "cell_type": "code",
      "metadata": {
        "id": "MPyfQxD5z26J"
      },
      "source": [
        "# Set up fake display; otherwise rendering will fail\n",
        "import os\n",
        "os.system(\"Xvfb :1 -screen 0 1024x768x24 &\")\n",
        "os.environ['DISPLAY'] = ':1'"
      ],
      "execution_count": 12,
      "outputs": []
    },
    {
      "cell_type": "code",
      "metadata": {
        "id": "SLzXxO8VMD6N"
      },
      "source": [
        "import base64\n",
        "from pathlib import Path\n",
        "\n",
        "from IPython import display as ipythondisplay\n",
        "\n",
        "def show_videos(video_path='', prefix=''):\n",
        "  \"\"\"\n",
        "  Taken from https://github.com/eleurent/highway-env\n",
        "\n",
        "  :param video_path: (str) Path to the folder containing videos\n",
        "  :param prefix: (str) Filter the video, showing only the only starting with this prefix\n",
        "  \"\"\"\n",
        "  html = []\n",
        "  for mp4 in Path(video_path).glob(\"{}*.mp4\".format(prefix)):\n",
        "      video_b64 = base64.b64encode(mp4.read_bytes())\n",
        "      html.append('''<video alt=\"{}\" autoplay \n",
        "                    loop controls style=\"height: 400px;\">\n",
        "                    <source src=\"data:video/mp4;base64,{}\" type=\"video/mp4\" />\n",
        "                </video>'''.format(mp4, video_b64.decode('ascii')))\n",
        "  ipythondisplay.display(ipythondisplay.HTML(data=\"<br>\".join(html)))"
      ],
      "execution_count": 13,
      "outputs": []
    },
    {
      "cell_type": "markdown",
      "metadata": {
        "id": "LTRNUfulOGaF"
      },
      "source": [
        "We will record a video using the [VecVideoRecorder](https://stable-baselines3.readthedocs.io/en/master/guide/vec_envs.html#vecvideorecorder) wrapper, you will learn about those wrapper in the next notebook."
      ]
    },
    {
      "cell_type": "code",
      "metadata": {
        "id": "Trag9dQpOIhx"
      },
      "source": [
        "from stable_baselines3.common.vec_env import VecVideoRecorder, DummyVecEnv\n",
        "\n",
        "def record_video(env_id, model, video_length=500, prefix='', video_folder='videos/'):\n",
        "  \"\"\"\n",
        "  :param env_id: (str)\n",
        "  :param model: (RL model)\n",
        "  :param video_length: (int)\n",
        "  :param prefix: (str)\n",
        "  :param video_folder: (str)\n",
        "  \"\"\"\n",
        "  eval_env = DummyVecEnv([lambda: gym.make(env_id)])\n",
        "  # Start the video at step=0 and record 500 steps\n",
        "  eval_env = VecVideoRecorder(eval_env, video_folder=video_folder,\n",
        "                              record_video_trigger=lambda step: step == 0, video_length=video_length,\n",
        "                              name_prefix=prefix)\n",
        "\n",
        "  obs = eval_env.reset()\n",
        "  for _ in range(video_length):\n",
        "    action, _ = model.predict(obs)\n",
        "    obs, _, _, _ = eval_env.step(action)\n",
        "\n",
        "  # Close the video recorder\n",
        "  eval_env.close()"
      ],
      "execution_count": 14,
      "outputs": []
    },
    {
      "cell_type": "markdown",
      "metadata": {
        "id": "KOObbeu5MMlR"
      },
      "source": [
        "### Visualize trained agent\n",
        "\n"
      ]
    },
    {
      "cell_type": "code",
      "metadata": {
        "id": "iATu7AiyMQW2",
        "colab": {
          "base_uri": "https://localhost:8080/"
        },
        "outputId": "5a4c2993-85f9-4391-a78d-372c07b69b9b"
      },
      "source": [
        "record_video('CartPole-v1', model, video_length=500, prefix='ppo2-cartpole')"
      ],
      "execution_count": 15,
      "outputs": [
        {
          "output_type": "stream",
          "name": "stdout",
          "text": [
            "Saving video to /content/videos/ppo2-cartpole-step-0-to-step-500.mp4\n"
          ]
        }
      ]
    },
    {
      "cell_type": "code",
      "metadata": {
        "id": "-n4i-fW3NojZ",
        "colab": {
          "base_uri": "https://localhost:8080/",
          "height": 421
        },
        "outputId": "930b426e-becd-477d-86a7-09c5b8c5f366"
      },
      "source": [
        "show_videos('videos', prefix='ppo2')"
      ],
      "execution_count": 16,
      "outputs": [
        {
          "output_type": "display_data",
          "data": {
            "text/html": [
              "<video alt=\"videos/ppo2-cartpole-step-0-to-step-500.mp4\" autoplay \n",
              "                    loop controls style=\"height: 400px;\">\n",
              "                    <source src=\"data:video/mp4;base64,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\" type=\"video/mp4\" />\n",
              "                </video>"
            ],
            "text/plain": [
              "<IPython.core.display.HTML object>"
            ]
          },
          "metadata": {}
        }
      ]
    },
    {
      "cell_type": "markdown",
      "metadata": {
        "id": "9Y8zg4V566qD"
      },
      "source": [
        "## Bonus: Train a RL Model in One Line\n",
        "\n",
        "The policy class to use will be inferred and the environment will be automatically created. This works because both are [registered](https://stable-baselines3.readthedocs.io/en/master/guide/quickstart.html)."
      ]
    },
    {
      "cell_type": "code",
      "metadata": {
        "id": "iaOPfOrwWEP4",
        "colab": {
          "base_uri": "https://localhost:8080/"
        },
        "outputId": "094bb39a-4ef2-4ff6-b8b1-97f139b0ea5c"
      },
      "source": [
        "model = PPO('MlpPolicy', \"CartPole-v1\", verbose=1).learn(1000)"
      ],
      "execution_count": 17,
      "outputs": [
        {
          "output_type": "stream",
          "name": "stdout",
          "text": [
            "Using cuda device\n",
            "Creating environment from the given name 'CartPole-v1'\n",
            "Wrapping the env with a `Monitor` wrapper\n",
            "Wrapping the env in a DummyVecEnv.\n",
            "---------------------------------\n",
            "| rollout/           |          |\n",
            "|    ep_len_mean     | 20.6     |\n",
            "|    ep_rew_mean     | 20.6     |\n",
            "| time/              |          |\n",
            "|    fps             | 643      |\n",
            "|    iterations      | 1        |\n",
            "|    time_elapsed    | 3        |\n",
            "|    total_timesteps | 2048     |\n",
            "---------------------------------\n"
          ]
        }
      ]
    },
    {
      "cell_type": "markdown",
      "metadata": {
        "id": "FrI6f5fWnzp-"
      },
      "source": [
        "## Conclusion\n",
        "\n",
        "In this notebook we have seen:\n",
        "- how to define and train a RL model using stable baselines3, it takes only one line of code ;)"
      ]
    }
  ]
}